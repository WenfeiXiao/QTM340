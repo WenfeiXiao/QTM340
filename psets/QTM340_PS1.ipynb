{
  "nbformat": 4,
  "nbformat_minor": 0,
  "metadata": {
    "colab": {
      "provenance": [],
      "collapsed_sections": [
        "Urjd8Meyx4P3",
        "1blGyn-84Xtg",
        "A8qcKzET8r9v",
        "DTxBpd5UGR1S",
        "gRUmocXWZGQw",
        "WZxH_TZTexUu",
        "4wIqqkMpgcxC",
        "Guh1S4koh0y0"
      ]
    },
    "kernelspec": {
      "name": "python3",
      "display_name": "Python 3"
    },
    "language_info": {
      "name": "python"
    }
  },
  "cells": [
    {
      "cell_type": "markdown",
      "source": [
        "In this problem set, we'll do exploratory data analysis with our text corpus. Students should follow the instructions in the notebook and fill the parts that are required from them.\n",
        "\n",
        "Although you're free to execute the notebook on your personal environment, I would strongly recommend using Google Colab. You can upload this notebook to Google colab by following the steps below.\n",
        "\n",
        "1. Open [colab.research.google.com](colab.research.google.com)\n",
        "2. Click on the upload tab\n",
        "3. Upload the .ipynb file by choosing the right file from your local disk\n",
        "\n",
        "\n",
        "**Submission instructions**\n",
        "\n",
        "1. When you're ready to submit, you'll save the notebook as QTM340-PS1-Firstname-Lastname.ipynb; for example, if your name is Harry Potter, save the file as `QTM340-PS1-Harry-Potter.ipynb`. This can be done in Google colab by editing the filename and then following File --> Download --> .ipynb\n",
        "\n",
        "2. Upload this file on canvas."
      ],
      "metadata": {
        "id": "cvov2_j6u3h7"
      }
    },
    {
      "cell_type": "markdown",
      "source": [
        "**Objective**: In this notebook, we'll learn to:\n",
        "\n",
        "a. Find stylometrics (3 points)\n",
        "\n",
        "b. Find distinctive terms by comparing multiple corpora (2 points)\n",
        "\n",
        "c. Find similar documents to a given document (3 points)"
      ],
      "metadata": {
        "id": "TQNmRAJoPJkM"
      }
    },
    {
      "cell_type": "markdown",
      "source": [
        "We'll use congressional speeches from the 114th congress as our corpus for analysis. To get the data, execute the following line:\n",
        "\n"
      ],
      "metadata": {
        "id": "v_YcHjoCbOY1"
      }
    },
    {
      "cell_type": "code",
      "source": [
        "!wget https://raw.githubusercontent.com/sandeepsoni/QTM340-Fall23/main/data/114_speeches.tar.gz\n",
        "!tar -xzvf 114_speeches.tar.gz"
      ],
      "metadata": {
        "colab": {
          "base_uri": "https://localhost:8080/"
        },
        "id": "LRIPM4z_o2Lx",
        "outputId": "86bf6586-717c-43bd-b6b1-6a08cb08eaca"
      },
      "execution_count": 1,
      "outputs": [
        {
          "output_type": "stream",
          "name": "stdout",
          "text": [
            "--2023-09-12 08:51:43--  https://raw.githubusercontent.com/sandeepsoni/QTM340-Fall23/main/data/114_speeches.tar.gz\n",
            "Resolving raw.githubusercontent.com (raw.githubusercontent.com)... 185.199.108.133, 185.199.111.133, 185.199.110.133, ...\n",
            "Connecting to raw.githubusercontent.com (raw.githubusercontent.com)|185.199.108.133|:443... connected.\n",
            "HTTP request sent, awaiting response... 200 OK\n",
            "Length: 43102274 (41M) [application/octet-stream]\n",
            "Saving to: ‘114_speeches.tar.gz.3’\n",
            "\n",
            "114_speeches.tar.gz 100%[===================>]  41.11M  68.2MB/s    in 0.6s    \n",
            "\n",
            "2023-09-12 08:51:43 (68.2 MB/s) - ‘114_speeches.tar.gz.3’ saved [43102274/43102274]\n",
            "\n",
            "114/\n",
            "114/speeches_114.txt\n",
            "114/README.txt\n",
            "114/114_SpeakerMap.txt\n"
          ]
        }
      ]
    },
    {
      "cell_type": "markdown",
      "source": [
        "The above execution should create a directory named `114` with the following structure:\n",
        "\n",
        "```\n",
        "114/\n",
        "114/speeches_114.txt\n",
        "114/README.txt\n",
        "114/114_SpeakerMap.txt\n",
        "```"
      ],
      "metadata": {
        "id": "idJRnz-zpgQn"
      }
    },
    {
      "cell_type": "markdown",
      "source": [
        "## 0. Setup\n",
        "\n",
        "Let's load all the speeches for which we have additional metadata."
      ],
      "metadata": {
        "id": "J6oBMgYfpqpI"
      }
    },
    {
      "cell_type": "markdown",
      "source": [
        "The speaker info file is delimited by `|` and the columns are named."
      ],
      "metadata": {
        "id": "AfmSdGS3pxDo"
      }
    },
    {
      "cell_type": "code",
      "source": [
        "!head -n 5 114/114_SpeakerMap.txt"
      ],
      "metadata": {
        "colab": {
          "base_uri": "https://localhost:8080/"
        },
        "id": "jGCTomvlqWcM",
        "outputId": "6a228f6f-afb1-448f-dd4d-b14880f0f385"
      },
      "execution_count": 2,
      "outputs": [
        {
          "output_type": "stream",
          "name": "stdout",
          "text": [
            "speakerid|speech_id|lastname|firstname|chamber|state|gender|party|district|nonvoting\n",
            "114120480|1140000007|MCMORRIS RODGERS|CATHY|H|WA|F|R|5|voting\n",
            "114118560|1140000009|BECERRA|XAVIER|H|CA|M|D|34|voting\n",
            "114121890|1140000011|MASSIE|THOMAS|H|KY|M|R|4|voting\n",
            "114122500|1140000013|BRIDENSTINE|JIM|H|OK|M|R|1|voting\n"
          ]
        }
      ]
    },
    {
      "cell_type": "markdown",
      "source": [
        "Similarly, the speeches file is delimited by `|` and contains the speech and its Id"
      ],
      "metadata": {
        "id": "Evg1H7JWqraK"
      }
    },
    {
      "cell_type": "code",
      "source": [
        "!head -n 5 114/speeches_114.txt"
      ],
      "metadata": {
        "colab": {
          "base_uri": "https://localhost:8080/"
        },
        "id": "J2KA7FxYqlyp",
        "outputId": "1036d933-cef7-4bf0-cf09-3e219ea2a9a2"
      },
      "execution_count": 3,
      "outputs": [
        {
          "output_type": "stream",
          "name": "stdout",
          "text": [
            "speech_id|speech\n",
            "1140000001|The Representativeselect and their guests will please remain standing and join in the Pledge of Allegiance.\n",
            "1140000002|As directed by law. the Clerk of the House has prepared the official roll of the Representativeselect. Certificates of election covering 435 seats in the 114th Congress have been received by the Clerk of the House. and the names of those persons whose credentials show that they were regularly elected as Representatives in accordance with the laws of their respective States or of the United States will be called. The Representativeselect will record their presence by electronic device and their names will be reported in alphabetical order by State. beginning with the State of Alabama. to determine whether a quorum is present. Representatives- elect will have a minimum of 15 minutes to record their presence by electronic device. Representatives- elect who have not obtained their voting ID cards may do so now in the Speakers lobby.\n",
            "1140000003|Four hundred and one Represent ativeselect have recorded their presence. A quorum is present.\n",
            "1140000004|Credentials. regular in form. have been received showing the election of: The Honorable PEDRO R. PIERLUISI as Resident Commissioner from the Commonwealth of Puerto Rico for a term of 4 years beginning January 3. 2013. The Honorable ELEANOR HOLMES NORTON as Delegate from the District of Columbia. The Honorable MADELEINE Z. BORDALLO as Delegate from Guam. The Honorable STACEY E. PLASKETT as Delegate from the Virgin Islands. The Honorable AMATA COLEMAN RADEWAGEN as Delegate from American Samoa. and The Honorable GREGORIO SABLAN as Delegate from the Commonwealth of the Northern Mariana Islands.\n"
          ]
        }
      ]
    },
    {
      "cell_type": "markdown",
      "source": [
        "We'll use the `pandas` library to load both the speeches and the speaker info. If you are familar with `R` then pandas can be thought of as providing pretty much the same functionality to construct and manipulate dataframes. You can read about more about it [here](https://pandas.pydata.org/docs/user_guide/10min.html).\n",
        "\n",
        "We'll also import other libraries and configure them so they're ready to use later in the notebook."
      ],
      "metadata": {
        "id": "3PXeqqDvq13H"
      }
    },
    {
      "cell_type": "code",
      "source": [
        "# Import the general libraries\n",
        "import math\n",
        "import pandas as pd\n",
        "from tqdm import tqdm\n",
        "import numpy as np\n",
        "from collections import defaultdict, Counter\n",
        "import matplotlib.pyplot as pyplot\n",
        "%matplotlib inline\n",
        "\n",
        "# Import spacy and configure the nlp pipeline for spacy\n",
        "import spacy\n",
        "nlp = spacy.load (\"en_core_web_sm\", disable=[\"ner\", \"parser\"])\n",
        "nlp.disable_pipe (\"ner\")\n",
        "nlp.disable_pipe (\"parser\")\n",
        "\n",
        "# Import nltk and download the punct models\n",
        "import nltk\n",
        "nltk.download (\"punkt\")"
      ],
      "metadata": {
        "colab": {
          "base_uri": "https://localhost:8080/"
        },
        "id": "BRL9iQBAsIjG",
        "outputId": "42662340-8f79-4371-c93e-f50d17389f68"
      },
      "execution_count": 4,
      "outputs": [
        {
          "output_type": "stream",
          "name": "stderr",
          "text": [
            "[nltk_data] Downloading package punkt to /root/nltk_data...\n",
            "[nltk_data]   Package punkt is already up-to-date!\n"
          ]
        },
        {
          "output_type": "execute_result",
          "data": {
            "text/plain": [
              "True"
            ]
          },
          "metadata": {},
          "execution_count": 4
        }
      ]
    },
    {
      "cell_type": "code",
      "source": [
        "# Let's read the speeches\n",
        "speeches = pd.read_csv (\"114/speeches_114.txt\", #name of the file\n",
        "                        sep='|', #delimiter\n",
        "                        encoding=\"utf-8\", #encoding of the characters\n",
        "                        encoding_errors=\"ignore\", #ignore any errors in encoding\n",
        "                        on_bad_lines=\"skip\" #skip lines which contain ill-formatted speeches\n",
        "                       )"
      ],
      "metadata": {
        "id": "SSAkhalYsa2M"
      },
      "execution_count": 5,
      "outputs": []
    },
    {
      "cell_type": "code",
      "source": [
        "# Let's read the speaker info.\n",
        "speaker_map = pd.read_csv (\"114/114_SpeakerMap.txt\", #name of the file\n",
        "                        sep='|', #delimiter\n",
        "                        encoding=\"utf-8\", #encoding of the characters\n",
        "                        encoding_errors=\"ignore\", #ignore any errors in encoding\n",
        "                        on_bad_lines=\"skip\" #skip lines which contain ill-formatted speeches\n",
        "                       )"
      ],
      "metadata": {
        "id": "N9oHDbBWteMK"
      },
      "execution_count": 6,
      "outputs": []
    },
    {
      "cell_type": "markdown",
      "source": [
        "Let's see a few rows in both the dataframes. We can do this by calling the `.head` function of the pandas dataframe."
      ],
      "metadata": {
        "id": "V6hbMXZ6uDCh"
      }
    },
    {
      "cell_type": "code",
      "source": [
        "speeches.head (5)"
      ],
      "metadata": {
        "colab": {
          "base_uri": "https://localhost:8080/",
          "height": 206
        },
        "id": "vDZXr1SCuPFK",
        "outputId": "e1cbc2fa-7eba-4666-e0ea-efe4ab9cc3bc"
      },
      "execution_count": 7,
      "outputs": [
        {
          "output_type": "execute_result",
          "data": {
            "text/plain": [
              "    speech_id                                             speech\n",
              "0  1140000001  The Representativeselect and their guests will...\n",
              "1  1140000002  As directed by law. the Clerk of the House has...\n",
              "2  1140000003  Four hundred and one Represent ativeselect hav...\n",
              "3  1140000004  Credentials. regular in form. have been receiv...\n",
              "4  1140000005  The Clerk is in receipt of a letter from the H..."
            ],
            "text/html": [
              "\n",
              "  <div id=\"df-c6b9d6c2-7764-41be-b63b-d3fb138d1ef4\" class=\"colab-df-container\">\n",
              "    <div>\n",
              "<style scoped>\n",
              "    .dataframe tbody tr th:only-of-type {\n",
              "        vertical-align: middle;\n",
              "    }\n",
              "\n",
              "    .dataframe tbody tr th {\n",
              "        vertical-align: top;\n",
              "    }\n",
              "\n",
              "    .dataframe thead th {\n",
              "        text-align: right;\n",
              "    }\n",
              "</style>\n",
              "<table border=\"1\" class=\"dataframe\">\n",
              "  <thead>\n",
              "    <tr style=\"text-align: right;\">\n",
              "      <th></th>\n",
              "      <th>speech_id</th>\n",
              "      <th>speech</th>\n",
              "    </tr>\n",
              "  </thead>\n",
              "  <tbody>\n",
              "    <tr>\n",
              "      <th>0</th>\n",
              "      <td>1140000001</td>\n",
              "      <td>The Representativeselect and their guests will...</td>\n",
              "    </tr>\n",
              "    <tr>\n",
              "      <th>1</th>\n",
              "      <td>1140000002</td>\n",
              "      <td>As directed by law. the Clerk of the House has...</td>\n",
              "    </tr>\n",
              "    <tr>\n",
              "      <th>2</th>\n",
              "      <td>1140000003</td>\n",
              "      <td>Four hundred and one Represent ativeselect hav...</td>\n",
              "    </tr>\n",
              "    <tr>\n",
              "      <th>3</th>\n",
              "      <td>1140000004</td>\n",
              "      <td>Credentials. regular in form. have been receiv...</td>\n",
              "    </tr>\n",
              "    <tr>\n",
              "      <th>4</th>\n",
              "      <td>1140000005</td>\n",
              "      <td>The Clerk is in receipt of a letter from the H...</td>\n",
              "    </tr>\n",
              "  </tbody>\n",
              "</table>\n",
              "</div>\n",
              "    <div class=\"colab-df-buttons\">\n",
              "\n",
              "  <div class=\"colab-df-container\">\n",
              "    <button class=\"colab-df-convert\" onclick=\"convertToInteractive('df-c6b9d6c2-7764-41be-b63b-d3fb138d1ef4')\"\n",
              "            title=\"Convert this dataframe to an interactive table.\"\n",
              "            style=\"display:none;\">\n",
              "\n",
              "  <svg xmlns=\"http://www.w3.org/2000/svg\" height=\"24px\" viewBox=\"0 -960 960 960\">\n",
              "    <path d=\"M120-120v-720h720v720H120Zm60-500h600v-160H180v160Zm220 220h160v-160H400v160Zm0 220h160v-160H400v160ZM180-400h160v-160H180v160Zm440 0h160v-160H620v160ZM180-180h160v-160H180v160Zm440 0h160v-160H620v160Z\"/>\n",
              "  </svg>\n",
              "    </button>\n",
              "\n",
              "  <style>\n",
              "    .colab-df-container {\n",
              "      display:flex;\n",
              "      gap: 12px;\n",
              "    }\n",
              "\n",
              "    .colab-df-convert {\n",
              "      background-color: #E8F0FE;\n",
              "      border: none;\n",
              "      border-radius: 50%;\n",
              "      cursor: pointer;\n",
              "      display: none;\n",
              "      fill: #1967D2;\n",
              "      height: 32px;\n",
              "      padding: 0 0 0 0;\n",
              "      width: 32px;\n",
              "    }\n",
              "\n",
              "    .colab-df-convert:hover {\n",
              "      background-color: #E2EBFA;\n",
              "      box-shadow: 0px 1px 2px rgba(60, 64, 67, 0.3), 0px 1px 3px 1px rgba(60, 64, 67, 0.15);\n",
              "      fill: #174EA6;\n",
              "    }\n",
              "\n",
              "    .colab-df-buttons div {\n",
              "      margin-bottom: 4px;\n",
              "    }\n",
              "\n",
              "    [theme=dark] .colab-df-convert {\n",
              "      background-color: #3B4455;\n",
              "      fill: #D2E3FC;\n",
              "    }\n",
              "\n",
              "    [theme=dark] .colab-df-convert:hover {\n",
              "      background-color: #434B5C;\n",
              "      box-shadow: 0px 1px 3px 1px rgba(0, 0, 0, 0.15);\n",
              "      filter: drop-shadow(0px 1px 2px rgba(0, 0, 0, 0.3));\n",
              "      fill: #FFFFFF;\n",
              "    }\n",
              "  </style>\n",
              "\n",
              "    <script>\n",
              "      const buttonEl =\n",
              "        document.querySelector('#df-c6b9d6c2-7764-41be-b63b-d3fb138d1ef4 button.colab-df-convert');\n",
              "      buttonEl.style.display =\n",
              "        google.colab.kernel.accessAllowed ? 'block' : 'none';\n",
              "\n",
              "      async function convertToInteractive(key) {\n",
              "        const element = document.querySelector('#df-c6b9d6c2-7764-41be-b63b-d3fb138d1ef4');\n",
              "        const dataTable =\n",
              "          await google.colab.kernel.invokeFunction('convertToInteractive',\n",
              "                                                    [key], {});\n",
              "        if (!dataTable) return;\n",
              "\n",
              "        const docLinkHtml = 'Like what you see? Visit the ' +\n",
              "          '<a target=\"_blank\" href=https://colab.research.google.com/notebooks/data_table.ipynb>data table notebook</a>'\n",
              "          + ' to learn more about interactive tables.';\n",
              "        element.innerHTML = '';\n",
              "        dataTable['output_type'] = 'display_data';\n",
              "        await google.colab.output.renderOutput(dataTable, element);\n",
              "        const docLink = document.createElement('div');\n",
              "        docLink.innerHTML = docLinkHtml;\n",
              "        element.appendChild(docLink);\n",
              "      }\n",
              "    </script>\n",
              "  </div>\n",
              "\n",
              "\n",
              "<div id=\"df-cd64cc89-b260-4ee5-8a30-94fe531b0f33\">\n",
              "  <button class=\"colab-df-quickchart\" onclick=\"quickchart('df-cd64cc89-b260-4ee5-8a30-94fe531b0f33')\"\n",
              "            title=\"Suggest charts.\"\n",
              "            style=\"display:none;\">\n",
              "\n",
              "<svg xmlns=\"http://www.w3.org/2000/svg\" height=\"24px\"viewBox=\"0 0 24 24\"\n",
              "     width=\"24px\">\n",
              "    <g>\n",
              "        <path d=\"M19 3H5c-1.1 0-2 .9-2 2v14c0 1.1.9 2 2 2h14c1.1 0 2-.9 2-2V5c0-1.1-.9-2-2-2zM9 17H7v-7h2v7zm4 0h-2V7h2v10zm4 0h-2v-4h2v4z\"/>\n",
              "    </g>\n",
              "</svg>\n",
              "  </button>\n",
              "\n",
              "<style>\n",
              "  .colab-df-quickchart {\n",
              "      --bg-color: #E8F0FE;\n",
              "      --fill-color: #1967D2;\n",
              "      --hover-bg-color: #E2EBFA;\n",
              "      --hover-fill-color: #174EA6;\n",
              "      --disabled-fill-color: #AAA;\n",
              "      --disabled-bg-color: #DDD;\n",
              "  }\n",
              "\n",
              "  [theme=dark] .colab-df-quickchart {\n",
              "      --bg-color: #3B4455;\n",
              "      --fill-color: #D2E3FC;\n",
              "      --hover-bg-color: #434B5C;\n",
              "      --hover-fill-color: #FFFFFF;\n",
              "      --disabled-bg-color: #3B4455;\n",
              "      --disabled-fill-color: #666;\n",
              "  }\n",
              "\n",
              "  .colab-df-quickchart {\n",
              "    background-color: var(--bg-color);\n",
              "    border: none;\n",
              "    border-radius: 50%;\n",
              "    cursor: pointer;\n",
              "    display: none;\n",
              "    fill: var(--fill-color);\n",
              "    height: 32px;\n",
              "    padding: 0;\n",
              "    width: 32px;\n",
              "  }\n",
              "\n",
              "  .colab-df-quickchart:hover {\n",
              "    background-color: var(--hover-bg-color);\n",
              "    box-shadow: 0 1px 2px rgba(60, 64, 67, 0.3), 0 1px 3px 1px rgba(60, 64, 67, 0.15);\n",
              "    fill: var(--button-hover-fill-color);\n",
              "  }\n",
              "\n",
              "  .colab-df-quickchart-complete:disabled,\n",
              "  .colab-df-quickchart-complete:disabled:hover {\n",
              "    background-color: var(--disabled-bg-color);\n",
              "    fill: var(--disabled-fill-color);\n",
              "    box-shadow: none;\n",
              "  }\n",
              "\n",
              "  .colab-df-spinner {\n",
              "    border: 2px solid var(--fill-color);\n",
              "    border-color: transparent;\n",
              "    border-bottom-color: var(--fill-color);\n",
              "    animation:\n",
              "      spin 1s steps(1) infinite;\n",
              "  }\n",
              "\n",
              "  @keyframes spin {\n",
              "    0% {\n",
              "      border-color: transparent;\n",
              "      border-bottom-color: var(--fill-color);\n",
              "      border-left-color: var(--fill-color);\n",
              "    }\n",
              "    20% {\n",
              "      border-color: transparent;\n",
              "      border-left-color: var(--fill-color);\n",
              "      border-top-color: var(--fill-color);\n",
              "    }\n",
              "    30% {\n",
              "      border-color: transparent;\n",
              "      border-left-color: var(--fill-color);\n",
              "      border-top-color: var(--fill-color);\n",
              "      border-right-color: var(--fill-color);\n",
              "    }\n",
              "    40% {\n",
              "      border-color: transparent;\n",
              "      border-right-color: var(--fill-color);\n",
              "      border-top-color: var(--fill-color);\n",
              "    }\n",
              "    60% {\n",
              "      border-color: transparent;\n",
              "      border-right-color: var(--fill-color);\n",
              "    }\n",
              "    80% {\n",
              "      border-color: transparent;\n",
              "      border-right-color: var(--fill-color);\n",
              "      border-bottom-color: var(--fill-color);\n",
              "    }\n",
              "    90% {\n",
              "      border-color: transparent;\n",
              "      border-bottom-color: var(--fill-color);\n",
              "    }\n",
              "  }\n",
              "</style>\n",
              "\n",
              "  <script>\n",
              "    async function quickchart(key) {\n",
              "      const quickchartButtonEl =\n",
              "        document.querySelector('#' + key + ' button');\n",
              "      quickchartButtonEl.disabled = true;  // To prevent multiple clicks.\n",
              "      quickchartButtonEl.classList.add('colab-df-spinner');\n",
              "      try {\n",
              "        const charts = await google.colab.kernel.invokeFunction(\n",
              "            'suggestCharts', [key], {});\n",
              "      } catch (error) {\n",
              "        console.error('Error during call to suggestCharts:', error);\n",
              "      }\n",
              "      quickchartButtonEl.classList.remove('colab-df-spinner');\n",
              "      quickchartButtonEl.classList.add('colab-df-quickchart-complete');\n",
              "    }\n",
              "    (() => {\n",
              "      let quickchartButtonEl =\n",
              "        document.querySelector('#df-cd64cc89-b260-4ee5-8a30-94fe531b0f33 button');\n",
              "      quickchartButtonEl.style.display =\n",
              "        google.colab.kernel.accessAllowed ? 'block' : 'none';\n",
              "    })();\n",
              "  </script>\n",
              "</div>\n",
              "    </div>\n",
              "  </div>\n"
            ]
          },
          "metadata": {},
          "execution_count": 7
        }
      ]
    },
    {
      "cell_type": "code",
      "source": [
        "speaker_map.head (5)"
      ],
      "metadata": {
        "colab": {
          "base_uri": "https://localhost:8080/",
          "height": 206
        },
        "id": "t7TslmWDugde",
        "outputId": "a7edadb5-5252-48dc-abea-c7928ad933d7"
      },
      "execution_count": 8,
      "outputs": [
        {
          "output_type": "execute_result",
          "data": {
            "text/plain": [
              "   speakerid   speech_id          lastname firstname chamber state gender  \\\n",
              "0  114120480  1140000007  MCMORRIS RODGERS     CATHY       H    WA      F   \n",
              "1  114118560  1140000009           BECERRA    XAVIER       H    CA      M   \n",
              "2  114121890  1140000011            MASSIE    THOMAS       H    KY      M   \n",
              "3  114122500  1140000013       BRIDENSTINE       JIM       H    OK      M   \n",
              "4  114120780  1140000017            PELOSI     NANCY       H    CA      F   \n",
              "\n",
              "  party  district nonvoting  \n",
              "0     R       5.0    voting  \n",
              "1     D      34.0    voting  \n",
              "2     R       4.0    voting  \n",
              "3     R       1.0    voting  \n",
              "4     D      12.0    voting  "
            ],
            "text/html": [
              "\n",
              "  <div id=\"df-00132709-5d6c-43a4-b2d6-80e7dd192632\" class=\"colab-df-container\">\n",
              "    <div>\n",
              "<style scoped>\n",
              "    .dataframe tbody tr th:only-of-type {\n",
              "        vertical-align: middle;\n",
              "    }\n",
              "\n",
              "    .dataframe tbody tr th {\n",
              "        vertical-align: top;\n",
              "    }\n",
              "\n",
              "    .dataframe thead th {\n",
              "        text-align: right;\n",
              "    }\n",
              "</style>\n",
              "<table border=\"1\" class=\"dataframe\">\n",
              "  <thead>\n",
              "    <tr style=\"text-align: right;\">\n",
              "      <th></th>\n",
              "      <th>speakerid</th>\n",
              "      <th>speech_id</th>\n",
              "      <th>lastname</th>\n",
              "      <th>firstname</th>\n",
              "      <th>chamber</th>\n",
              "      <th>state</th>\n",
              "      <th>gender</th>\n",
              "      <th>party</th>\n",
              "      <th>district</th>\n",
              "      <th>nonvoting</th>\n",
              "    </tr>\n",
              "  </thead>\n",
              "  <tbody>\n",
              "    <tr>\n",
              "      <th>0</th>\n",
              "      <td>114120480</td>\n",
              "      <td>1140000007</td>\n",
              "      <td>MCMORRIS RODGERS</td>\n",
              "      <td>CATHY</td>\n",
              "      <td>H</td>\n",
              "      <td>WA</td>\n",
              "      <td>F</td>\n",
              "      <td>R</td>\n",
              "      <td>5.0</td>\n",
              "      <td>voting</td>\n",
              "    </tr>\n",
              "    <tr>\n",
              "      <th>1</th>\n",
              "      <td>114118560</td>\n",
              "      <td>1140000009</td>\n",
              "      <td>BECERRA</td>\n",
              "      <td>XAVIER</td>\n",
              "      <td>H</td>\n",
              "      <td>CA</td>\n",
              "      <td>M</td>\n",
              "      <td>D</td>\n",
              "      <td>34.0</td>\n",
              "      <td>voting</td>\n",
              "    </tr>\n",
              "    <tr>\n",
              "      <th>2</th>\n",
              "      <td>114121890</td>\n",
              "      <td>1140000011</td>\n",
              "      <td>MASSIE</td>\n",
              "      <td>THOMAS</td>\n",
              "      <td>H</td>\n",
              "      <td>KY</td>\n",
              "      <td>M</td>\n",
              "      <td>R</td>\n",
              "      <td>4.0</td>\n",
              "      <td>voting</td>\n",
              "    </tr>\n",
              "    <tr>\n",
              "      <th>3</th>\n",
              "      <td>114122500</td>\n",
              "      <td>1140000013</td>\n",
              "      <td>BRIDENSTINE</td>\n",
              "      <td>JIM</td>\n",
              "      <td>H</td>\n",
              "      <td>OK</td>\n",
              "      <td>M</td>\n",
              "      <td>R</td>\n",
              "      <td>1.0</td>\n",
              "      <td>voting</td>\n",
              "    </tr>\n",
              "    <tr>\n",
              "      <th>4</th>\n",
              "      <td>114120780</td>\n",
              "      <td>1140000017</td>\n",
              "      <td>PELOSI</td>\n",
              "      <td>NANCY</td>\n",
              "      <td>H</td>\n",
              "      <td>CA</td>\n",
              "      <td>F</td>\n",
              "      <td>D</td>\n",
              "      <td>12.0</td>\n",
              "      <td>voting</td>\n",
              "    </tr>\n",
              "  </tbody>\n",
              "</table>\n",
              "</div>\n",
              "    <div class=\"colab-df-buttons\">\n",
              "\n",
              "  <div class=\"colab-df-container\">\n",
              "    <button class=\"colab-df-convert\" onclick=\"convertToInteractive('df-00132709-5d6c-43a4-b2d6-80e7dd192632')\"\n",
              "            title=\"Convert this dataframe to an interactive table.\"\n",
              "            style=\"display:none;\">\n",
              "\n",
              "  <svg xmlns=\"http://www.w3.org/2000/svg\" height=\"24px\" viewBox=\"0 -960 960 960\">\n",
              "    <path d=\"M120-120v-720h720v720H120Zm60-500h600v-160H180v160Zm220 220h160v-160H400v160Zm0 220h160v-160H400v160ZM180-400h160v-160H180v160Zm440 0h160v-160H620v160ZM180-180h160v-160H180v160Zm440 0h160v-160H620v160Z\"/>\n",
              "  </svg>\n",
              "    </button>\n",
              "\n",
              "  <style>\n",
              "    .colab-df-container {\n",
              "      display:flex;\n",
              "      gap: 12px;\n",
              "    }\n",
              "\n",
              "    .colab-df-convert {\n",
              "      background-color: #E8F0FE;\n",
              "      border: none;\n",
              "      border-radius: 50%;\n",
              "      cursor: pointer;\n",
              "      display: none;\n",
              "      fill: #1967D2;\n",
              "      height: 32px;\n",
              "      padding: 0 0 0 0;\n",
              "      width: 32px;\n",
              "    }\n",
              "\n",
              "    .colab-df-convert:hover {\n",
              "      background-color: #E2EBFA;\n",
              "      box-shadow: 0px 1px 2px rgba(60, 64, 67, 0.3), 0px 1px 3px 1px rgba(60, 64, 67, 0.15);\n",
              "      fill: #174EA6;\n",
              "    }\n",
              "\n",
              "    .colab-df-buttons div {\n",
              "      margin-bottom: 4px;\n",
              "    }\n",
              "\n",
              "    [theme=dark] .colab-df-convert {\n",
              "      background-color: #3B4455;\n",
              "      fill: #D2E3FC;\n",
              "    }\n",
              "\n",
              "    [theme=dark] .colab-df-convert:hover {\n",
              "      background-color: #434B5C;\n",
              "      box-shadow: 0px 1px 3px 1px rgba(0, 0, 0, 0.15);\n",
              "      filter: drop-shadow(0px 1px 2px rgba(0, 0, 0, 0.3));\n",
              "      fill: #FFFFFF;\n",
              "    }\n",
              "  </style>\n",
              "\n",
              "    <script>\n",
              "      const buttonEl =\n",
              "        document.querySelector('#df-00132709-5d6c-43a4-b2d6-80e7dd192632 button.colab-df-convert');\n",
              "      buttonEl.style.display =\n",
              "        google.colab.kernel.accessAllowed ? 'block' : 'none';\n",
              "\n",
              "      async function convertToInteractive(key) {\n",
              "        const element = document.querySelector('#df-00132709-5d6c-43a4-b2d6-80e7dd192632');\n",
              "        const dataTable =\n",
              "          await google.colab.kernel.invokeFunction('convertToInteractive',\n",
              "                                                    [key], {});\n",
              "        if (!dataTable) return;\n",
              "\n",
              "        const docLinkHtml = 'Like what you see? Visit the ' +\n",
              "          '<a target=\"_blank\" href=https://colab.research.google.com/notebooks/data_table.ipynb>data table notebook</a>'\n",
              "          + ' to learn more about interactive tables.';\n",
              "        element.innerHTML = '';\n",
              "        dataTable['output_type'] = 'display_data';\n",
              "        await google.colab.output.renderOutput(dataTable, element);\n",
              "        const docLink = document.createElement('div');\n",
              "        docLink.innerHTML = docLinkHtml;\n",
              "        element.appendChild(docLink);\n",
              "      }\n",
              "    </script>\n",
              "  </div>\n",
              "\n",
              "\n",
              "<div id=\"df-2d38c781-8487-4375-807c-f25a4d5b0fdb\">\n",
              "  <button class=\"colab-df-quickchart\" onclick=\"quickchart('df-2d38c781-8487-4375-807c-f25a4d5b0fdb')\"\n",
              "            title=\"Suggest charts.\"\n",
              "            style=\"display:none;\">\n",
              "\n",
              "<svg xmlns=\"http://www.w3.org/2000/svg\" height=\"24px\"viewBox=\"0 0 24 24\"\n",
              "     width=\"24px\">\n",
              "    <g>\n",
              "        <path d=\"M19 3H5c-1.1 0-2 .9-2 2v14c0 1.1.9 2 2 2h14c1.1 0 2-.9 2-2V5c0-1.1-.9-2-2-2zM9 17H7v-7h2v7zm4 0h-2V7h2v10zm4 0h-2v-4h2v4z\"/>\n",
              "    </g>\n",
              "</svg>\n",
              "  </button>\n",
              "\n",
              "<style>\n",
              "  .colab-df-quickchart {\n",
              "      --bg-color: #E8F0FE;\n",
              "      --fill-color: #1967D2;\n",
              "      --hover-bg-color: #E2EBFA;\n",
              "      --hover-fill-color: #174EA6;\n",
              "      --disabled-fill-color: #AAA;\n",
              "      --disabled-bg-color: #DDD;\n",
              "  }\n",
              "\n",
              "  [theme=dark] .colab-df-quickchart {\n",
              "      --bg-color: #3B4455;\n",
              "      --fill-color: #D2E3FC;\n",
              "      --hover-bg-color: #434B5C;\n",
              "      --hover-fill-color: #FFFFFF;\n",
              "      --disabled-bg-color: #3B4455;\n",
              "      --disabled-fill-color: #666;\n",
              "  }\n",
              "\n",
              "  .colab-df-quickchart {\n",
              "    background-color: var(--bg-color);\n",
              "    border: none;\n",
              "    border-radius: 50%;\n",
              "    cursor: pointer;\n",
              "    display: none;\n",
              "    fill: var(--fill-color);\n",
              "    height: 32px;\n",
              "    padding: 0;\n",
              "    width: 32px;\n",
              "  }\n",
              "\n",
              "  .colab-df-quickchart:hover {\n",
              "    background-color: var(--hover-bg-color);\n",
              "    box-shadow: 0 1px 2px rgba(60, 64, 67, 0.3), 0 1px 3px 1px rgba(60, 64, 67, 0.15);\n",
              "    fill: var(--button-hover-fill-color);\n",
              "  }\n",
              "\n",
              "  .colab-df-quickchart-complete:disabled,\n",
              "  .colab-df-quickchart-complete:disabled:hover {\n",
              "    background-color: var(--disabled-bg-color);\n",
              "    fill: var(--disabled-fill-color);\n",
              "    box-shadow: none;\n",
              "  }\n",
              "\n",
              "  .colab-df-spinner {\n",
              "    border: 2px solid var(--fill-color);\n",
              "    border-color: transparent;\n",
              "    border-bottom-color: var(--fill-color);\n",
              "    animation:\n",
              "      spin 1s steps(1) infinite;\n",
              "  }\n",
              "\n",
              "  @keyframes spin {\n",
              "    0% {\n",
              "      border-color: transparent;\n",
              "      border-bottom-color: var(--fill-color);\n",
              "      border-left-color: var(--fill-color);\n",
              "    }\n",
              "    20% {\n",
              "      border-color: transparent;\n",
              "      border-left-color: var(--fill-color);\n",
              "      border-top-color: var(--fill-color);\n",
              "    }\n",
              "    30% {\n",
              "      border-color: transparent;\n",
              "      border-left-color: var(--fill-color);\n",
              "      border-top-color: var(--fill-color);\n",
              "      border-right-color: var(--fill-color);\n",
              "    }\n",
              "    40% {\n",
              "      border-color: transparent;\n",
              "      border-right-color: var(--fill-color);\n",
              "      border-top-color: var(--fill-color);\n",
              "    }\n",
              "    60% {\n",
              "      border-color: transparent;\n",
              "      border-right-color: var(--fill-color);\n",
              "    }\n",
              "    80% {\n",
              "      border-color: transparent;\n",
              "      border-right-color: var(--fill-color);\n",
              "      border-bottom-color: var(--fill-color);\n",
              "    }\n",
              "    90% {\n",
              "      border-color: transparent;\n",
              "      border-bottom-color: var(--fill-color);\n",
              "    }\n",
              "  }\n",
              "</style>\n",
              "\n",
              "  <script>\n",
              "    async function quickchart(key) {\n",
              "      const quickchartButtonEl =\n",
              "        document.querySelector('#' + key + ' button');\n",
              "      quickchartButtonEl.disabled = true;  // To prevent multiple clicks.\n",
              "      quickchartButtonEl.classList.add('colab-df-spinner');\n",
              "      try {\n",
              "        const charts = await google.colab.kernel.invokeFunction(\n",
              "            'suggestCharts', [key], {});\n",
              "      } catch (error) {\n",
              "        console.error('Error during call to suggestCharts:', error);\n",
              "      }\n",
              "      quickchartButtonEl.classList.remove('colab-df-spinner');\n",
              "      quickchartButtonEl.classList.add('colab-df-quickchart-complete');\n",
              "    }\n",
              "    (() => {\n",
              "      let quickchartButtonEl =\n",
              "        document.querySelector('#df-2d38c781-8487-4375-807c-f25a4d5b0fdb button');\n",
              "      quickchartButtonEl.style.display =\n",
              "        google.colab.kernel.accessAllowed ? 'block' : 'none';\n",
              "    })();\n",
              "  </script>\n",
              "</div>\n",
              "    </div>\n",
              "  </div>\n"
            ]
          },
          "metadata": {},
          "execution_count": 8
        }
      ]
    },
    {
      "cell_type": "markdown",
      "source": [
        "Now we'll merge both the dataframes into one. We can do this by calling `pd.merge` as follows (if you'are familiar with SQL we'll do a join operation of these two tables that have the speech_id field in common)"
      ],
      "metadata": {
        "id": "igZS5j0ouk1K"
      }
    },
    {
      "cell_type": "code",
      "source": [
        "overall_data = pd.merge (speeches,\n",
        "                         speaker_map,\n",
        "                         how=\"inner\",\n",
        "                         on=\"speech_id\")"
      ],
      "metadata": {
        "id": "Tq_a541iu-8K"
      },
      "execution_count": 9,
      "outputs": []
    },
    {
      "cell_type": "markdown",
      "source": [
        "The resuling dataframe can be accessed with the variable `overall_data`"
      ],
      "metadata": {
        "id": "t3QTBKSGwdGP"
      }
    },
    {
      "cell_type": "code",
      "source": [
        "overall_data.head (5)"
      ],
      "metadata": {
        "colab": {
          "base_uri": "https://localhost:8080/",
          "height": 206
        },
        "id": "w-C5WI9lwS_e",
        "outputId": "08e097cd-8914-4e84-978c-4a4527035c7f"
      },
      "execution_count": 10,
      "outputs": [
        {
          "output_type": "execute_result",
          "data": {
            "text/plain": [
              "    speech_id                                             speech  speakerid  \\\n",
              "0  1140000007  RODGERS. Madam Clerk. it is an honor to addres...  114120480   \n",
              "1  1140000009  Madam Clerk. first I would like to recognize e...  114118560   \n",
              "2  1140000011  Madam Clerk. I present for election to the off...  114121890   \n",
              "3  1140000013  Madam Clerk. I present for the election of the...  114122500   \n",
              "4  1140000015  Madam Clerk. I rise to place in a nomination f...  114120060   \n",
              "\n",
              "           lastname firstname chamber state gender party  district nonvoting  \n",
              "0  MCMORRIS RODGERS     CATHY       H    WA      F     R       5.0    voting  \n",
              "1           BECERRA    XAVIER       H    CA      M     D      34.0    voting  \n",
              "2            MASSIE    THOMAS       H    KY      M     R       4.0    voting  \n",
              "3       BRIDENSTINE       JIM       H    OK      M     R       1.0    voting  \n",
              "4              KING     STEVE       H    IA      M     R       4.0    voting  "
            ],
            "text/html": [
              "\n",
              "  <div id=\"df-f720e5e3-9892-429f-b394-29446fcca286\" class=\"colab-df-container\">\n",
              "    <div>\n",
              "<style scoped>\n",
              "    .dataframe tbody tr th:only-of-type {\n",
              "        vertical-align: middle;\n",
              "    }\n",
              "\n",
              "    .dataframe tbody tr th {\n",
              "        vertical-align: top;\n",
              "    }\n",
              "\n",
              "    .dataframe thead th {\n",
              "        text-align: right;\n",
              "    }\n",
              "</style>\n",
              "<table border=\"1\" class=\"dataframe\">\n",
              "  <thead>\n",
              "    <tr style=\"text-align: right;\">\n",
              "      <th></th>\n",
              "      <th>speech_id</th>\n",
              "      <th>speech</th>\n",
              "      <th>speakerid</th>\n",
              "      <th>lastname</th>\n",
              "      <th>firstname</th>\n",
              "      <th>chamber</th>\n",
              "      <th>state</th>\n",
              "      <th>gender</th>\n",
              "      <th>party</th>\n",
              "      <th>district</th>\n",
              "      <th>nonvoting</th>\n",
              "    </tr>\n",
              "  </thead>\n",
              "  <tbody>\n",
              "    <tr>\n",
              "      <th>0</th>\n",
              "      <td>1140000007</td>\n",
              "      <td>RODGERS. Madam Clerk. it is an honor to addres...</td>\n",
              "      <td>114120480</td>\n",
              "      <td>MCMORRIS RODGERS</td>\n",
              "      <td>CATHY</td>\n",
              "      <td>H</td>\n",
              "      <td>WA</td>\n",
              "      <td>F</td>\n",
              "      <td>R</td>\n",
              "      <td>5.0</td>\n",
              "      <td>voting</td>\n",
              "    </tr>\n",
              "    <tr>\n",
              "      <th>1</th>\n",
              "      <td>1140000009</td>\n",
              "      <td>Madam Clerk. first I would like to recognize e...</td>\n",
              "      <td>114118560</td>\n",
              "      <td>BECERRA</td>\n",
              "      <td>XAVIER</td>\n",
              "      <td>H</td>\n",
              "      <td>CA</td>\n",
              "      <td>M</td>\n",
              "      <td>D</td>\n",
              "      <td>34.0</td>\n",
              "      <td>voting</td>\n",
              "    </tr>\n",
              "    <tr>\n",
              "      <th>2</th>\n",
              "      <td>1140000011</td>\n",
              "      <td>Madam Clerk. I present for election to the off...</td>\n",
              "      <td>114121890</td>\n",
              "      <td>MASSIE</td>\n",
              "      <td>THOMAS</td>\n",
              "      <td>H</td>\n",
              "      <td>KY</td>\n",
              "      <td>M</td>\n",
              "      <td>R</td>\n",
              "      <td>4.0</td>\n",
              "      <td>voting</td>\n",
              "    </tr>\n",
              "    <tr>\n",
              "      <th>3</th>\n",
              "      <td>1140000013</td>\n",
              "      <td>Madam Clerk. I present for the election of the...</td>\n",
              "      <td>114122500</td>\n",
              "      <td>BRIDENSTINE</td>\n",
              "      <td>JIM</td>\n",
              "      <td>H</td>\n",
              "      <td>OK</td>\n",
              "      <td>M</td>\n",
              "      <td>R</td>\n",
              "      <td>1.0</td>\n",
              "      <td>voting</td>\n",
              "    </tr>\n",
              "    <tr>\n",
              "      <th>4</th>\n",
              "      <td>1140000015</td>\n",
              "      <td>Madam Clerk. I rise to place in a nomination f...</td>\n",
              "      <td>114120060</td>\n",
              "      <td>KING</td>\n",
              "      <td>STEVE</td>\n",
              "      <td>H</td>\n",
              "      <td>IA</td>\n",
              "      <td>M</td>\n",
              "      <td>R</td>\n",
              "      <td>4.0</td>\n",
              "      <td>voting</td>\n",
              "    </tr>\n",
              "  </tbody>\n",
              "</table>\n",
              "</div>\n",
              "    <div class=\"colab-df-buttons\">\n",
              "\n",
              "  <div class=\"colab-df-container\">\n",
              "    <button class=\"colab-df-convert\" onclick=\"convertToInteractive('df-f720e5e3-9892-429f-b394-29446fcca286')\"\n",
              "            title=\"Convert this dataframe to an interactive table.\"\n",
              "            style=\"display:none;\">\n",
              "\n",
              "  <svg xmlns=\"http://www.w3.org/2000/svg\" height=\"24px\" viewBox=\"0 -960 960 960\">\n",
              "    <path d=\"M120-120v-720h720v720H120Zm60-500h600v-160H180v160Zm220 220h160v-160H400v160Zm0 220h160v-160H400v160ZM180-400h160v-160H180v160Zm440 0h160v-160H620v160ZM180-180h160v-160H180v160Zm440 0h160v-160H620v160Z\"/>\n",
              "  </svg>\n",
              "    </button>\n",
              "\n",
              "  <style>\n",
              "    .colab-df-container {\n",
              "      display:flex;\n",
              "      gap: 12px;\n",
              "    }\n",
              "\n",
              "    .colab-df-convert {\n",
              "      background-color: #E8F0FE;\n",
              "      border: none;\n",
              "      border-radius: 50%;\n",
              "      cursor: pointer;\n",
              "      display: none;\n",
              "      fill: #1967D2;\n",
              "      height: 32px;\n",
              "      padding: 0 0 0 0;\n",
              "      width: 32px;\n",
              "    }\n",
              "\n",
              "    .colab-df-convert:hover {\n",
              "      background-color: #E2EBFA;\n",
              "      box-shadow: 0px 1px 2px rgba(60, 64, 67, 0.3), 0px 1px 3px 1px rgba(60, 64, 67, 0.15);\n",
              "      fill: #174EA6;\n",
              "    }\n",
              "\n",
              "    .colab-df-buttons div {\n",
              "      margin-bottom: 4px;\n",
              "    }\n",
              "\n",
              "    [theme=dark] .colab-df-convert {\n",
              "      background-color: #3B4455;\n",
              "      fill: #D2E3FC;\n",
              "    }\n",
              "\n",
              "    [theme=dark] .colab-df-convert:hover {\n",
              "      background-color: #434B5C;\n",
              "      box-shadow: 0px 1px 3px 1px rgba(0, 0, 0, 0.15);\n",
              "      filter: drop-shadow(0px 1px 2px rgba(0, 0, 0, 0.3));\n",
              "      fill: #FFFFFF;\n",
              "    }\n",
              "  </style>\n",
              "\n",
              "    <script>\n",
              "      const buttonEl =\n",
              "        document.querySelector('#df-f720e5e3-9892-429f-b394-29446fcca286 button.colab-df-convert');\n",
              "      buttonEl.style.display =\n",
              "        google.colab.kernel.accessAllowed ? 'block' : 'none';\n",
              "\n",
              "      async function convertToInteractive(key) {\n",
              "        const element = document.querySelector('#df-f720e5e3-9892-429f-b394-29446fcca286');\n",
              "        const dataTable =\n",
              "          await google.colab.kernel.invokeFunction('convertToInteractive',\n",
              "                                                    [key], {});\n",
              "        if (!dataTable) return;\n",
              "\n",
              "        const docLinkHtml = 'Like what you see? Visit the ' +\n",
              "          '<a target=\"_blank\" href=https://colab.research.google.com/notebooks/data_table.ipynb>data table notebook</a>'\n",
              "          + ' to learn more about interactive tables.';\n",
              "        element.innerHTML = '';\n",
              "        dataTable['output_type'] = 'display_data';\n",
              "        await google.colab.output.renderOutput(dataTable, element);\n",
              "        const docLink = document.createElement('div');\n",
              "        docLink.innerHTML = docLinkHtml;\n",
              "        element.appendChild(docLink);\n",
              "      }\n",
              "    </script>\n",
              "  </div>\n",
              "\n",
              "\n",
              "<div id=\"df-a086eda7-3596-46fb-8329-6948bfd29459\">\n",
              "  <button class=\"colab-df-quickchart\" onclick=\"quickchart('df-a086eda7-3596-46fb-8329-6948bfd29459')\"\n",
              "            title=\"Suggest charts.\"\n",
              "            style=\"display:none;\">\n",
              "\n",
              "<svg xmlns=\"http://www.w3.org/2000/svg\" height=\"24px\"viewBox=\"0 0 24 24\"\n",
              "     width=\"24px\">\n",
              "    <g>\n",
              "        <path d=\"M19 3H5c-1.1 0-2 .9-2 2v14c0 1.1.9 2 2 2h14c1.1 0 2-.9 2-2V5c0-1.1-.9-2-2-2zM9 17H7v-7h2v7zm4 0h-2V7h2v10zm4 0h-2v-4h2v4z\"/>\n",
              "    </g>\n",
              "</svg>\n",
              "  </button>\n",
              "\n",
              "<style>\n",
              "  .colab-df-quickchart {\n",
              "      --bg-color: #E8F0FE;\n",
              "      --fill-color: #1967D2;\n",
              "      --hover-bg-color: #E2EBFA;\n",
              "      --hover-fill-color: #174EA6;\n",
              "      --disabled-fill-color: #AAA;\n",
              "      --disabled-bg-color: #DDD;\n",
              "  }\n",
              "\n",
              "  [theme=dark] .colab-df-quickchart {\n",
              "      --bg-color: #3B4455;\n",
              "      --fill-color: #D2E3FC;\n",
              "      --hover-bg-color: #434B5C;\n",
              "      --hover-fill-color: #FFFFFF;\n",
              "      --disabled-bg-color: #3B4455;\n",
              "      --disabled-fill-color: #666;\n",
              "  }\n",
              "\n",
              "  .colab-df-quickchart {\n",
              "    background-color: var(--bg-color);\n",
              "    border: none;\n",
              "    border-radius: 50%;\n",
              "    cursor: pointer;\n",
              "    display: none;\n",
              "    fill: var(--fill-color);\n",
              "    height: 32px;\n",
              "    padding: 0;\n",
              "    width: 32px;\n",
              "  }\n",
              "\n",
              "  .colab-df-quickchart:hover {\n",
              "    background-color: var(--hover-bg-color);\n",
              "    box-shadow: 0 1px 2px rgba(60, 64, 67, 0.3), 0 1px 3px 1px rgba(60, 64, 67, 0.15);\n",
              "    fill: var(--button-hover-fill-color);\n",
              "  }\n",
              "\n",
              "  .colab-df-quickchart-complete:disabled,\n",
              "  .colab-df-quickchart-complete:disabled:hover {\n",
              "    background-color: var(--disabled-bg-color);\n",
              "    fill: var(--disabled-fill-color);\n",
              "    box-shadow: none;\n",
              "  }\n",
              "\n",
              "  .colab-df-spinner {\n",
              "    border: 2px solid var(--fill-color);\n",
              "    border-color: transparent;\n",
              "    border-bottom-color: var(--fill-color);\n",
              "    animation:\n",
              "      spin 1s steps(1) infinite;\n",
              "  }\n",
              "\n",
              "  @keyframes spin {\n",
              "    0% {\n",
              "      border-color: transparent;\n",
              "      border-bottom-color: var(--fill-color);\n",
              "      border-left-color: var(--fill-color);\n",
              "    }\n",
              "    20% {\n",
              "      border-color: transparent;\n",
              "      border-left-color: var(--fill-color);\n",
              "      border-top-color: var(--fill-color);\n",
              "    }\n",
              "    30% {\n",
              "      border-color: transparent;\n",
              "      border-left-color: var(--fill-color);\n",
              "      border-top-color: var(--fill-color);\n",
              "      border-right-color: var(--fill-color);\n",
              "    }\n",
              "    40% {\n",
              "      border-color: transparent;\n",
              "      border-right-color: var(--fill-color);\n",
              "      border-top-color: var(--fill-color);\n",
              "    }\n",
              "    60% {\n",
              "      border-color: transparent;\n",
              "      border-right-color: var(--fill-color);\n",
              "    }\n",
              "    80% {\n",
              "      border-color: transparent;\n",
              "      border-right-color: var(--fill-color);\n",
              "      border-bottom-color: var(--fill-color);\n",
              "    }\n",
              "    90% {\n",
              "      border-color: transparent;\n",
              "      border-bottom-color: var(--fill-color);\n",
              "    }\n",
              "  }\n",
              "</style>\n",
              "\n",
              "  <script>\n",
              "    async function quickchart(key) {\n",
              "      const quickchartButtonEl =\n",
              "        document.querySelector('#' + key + ' button');\n",
              "      quickchartButtonEl.disabled = true;  // To prevent multiple clicks.\n",
              "      quickchartButtonEl.classList.add('colab-df-spinner');\n",
              "      try {\n",
              "        const charts = await google.colab.kernel.invokeFunction(\n",
              "            'suggestCharts', [key], {});\n",
              "      } catch (error) {\n",
              "        console.error('Error during call to suggestCharts:', error);\n",
              "      }\n",
              "      quickchartButtonEl.classList.remove('colab-df-spinner');\n",
              "      quickchartButtonEl.classList.add('colab-df-quickchart-complete');\n",
              "    }\n",
              "    (() => {\n",
              "      let quickchartButtonEl =\n",
              "        document.querySelector('#df-a086eda7-3596-46fb-8329-6948bfd29459 button');\n",
              "      quickchartButtonEl.style.display =\n",
              "        google.colab.kernel.accessAllowed ? 'block' : 'none';\n",
              "    })();\n",
              "  </script>\n",
              "</div>\n",
              "    </div>\n",
              "  </div>\n"
            ]
          },
          "metadata": {},
          "execution_count": 10
        }
      ]
    },
    {
      "cell_type": "markdown",
      "source": [
        "Now let's randomly pick 10000 speeches from the dataframe for our analysis. We can do this by calling the `.sample` method on the dataframe and passing an argument to it to indicate the number of rows we want to get post-sampling. Notice that we set the `random_state` to a fixed number (and not just any number but the answer to [the ultimate question of life](https://en.wikipedia.org/wiki/Phrases_from_The_Hitchhiker%27s_Guide_to_the_Galaxy#Answer_to_the_Ultimate_Question_of_Life,_the_Universe,_and_Everything_(42))) which is done to ensure replicability."
      ],
      "metadata": {
        "id": "s5a-S1Ob3wkz"
      }
    },
    {
      "cell_type": "code",
      "source": [
        "n=10000\n",
        "overall_data = overall_data.sample (n=n, random_state=42)\n",
        "print (len (overall_data))"
      ],
      "metadata": {
        "colab": {
          "base_uri": "https://localhost:8080/"
        },
        "id": "FOok6U0S4pHj",
        "outputId": "8e230b74-8cf1-4b85-b9ba-b60ecb317ee1"
      },
      "execution_count": 11,
      "outputs": [
        {
          "output_type": "stream",
          "name": "stdout",
          "text": [
            "10000\n"
          ]
        }
      ]
    },
    {
      "cell_type": "markdown",
      "source": [
        "## 1. Stylometrics"
      ],
      "metadata": {
        "id": "R5mQfUa6xzVp"
      }
    },
    {
      "cell_type": "markdown",
      "source": [
        "#### 1.1 Word length metrics\n",
        "\n",
        "To warmup, let's calculate the average word length in the entire corpus. We'll use the `nltk` library to do this as shown below."
      ],
      "metadata": {
        "id": "N2rq4OOwx3NO"
      }
    },
    {
      "cell_type": "code",
      "source": [
        "def get_all_tokens_from_corpus (frame: pd.DataFrame, field_name:str=\"speech\") -> list:\n",
        "  \"\"\" Iterate over the speeches in the dataframe and tokenize the speeches\n",
        "\n",
        "  :params:\n",
        "  :frame (pd.DataFrame): The dataframe that contains the entire tabular dataset\n",
        "  :field_name (str): The field name in the dataframe the cotnains the speeches\n",
        "\n",
        "  :returns:\n",
        "  :all_tokens (list): List of tokens.\n",
        "\n",
        "  \"\"\"\n",
        "  all_tokens = list ()\n",
        "  for i,row in tqdm(frame.iterrows ()):\n",
        "    tokens = nltk.word_tokenize (row[field_name]) # tokenize each speech\n",
        "    tokens = [token.lower () for token in tokens if token.isalpha()]\n",
        "    all_tokens.extend (tokens)\n",
        "  return all_tokens\n",
        "\n",
        "def get_average_token_length (tokens: list) -> float:\n",
        "  \"\"\"Given a list of tokens, calculate the average token length\n",
        "\n",
        "  :params:\n",
        "  :tokens (list): The list of tokens.\n",
        "\n",
        "  :returns:\n",
        "  :avg_token_length (float): The average token length over all the speeches\n",
        "\n",
        "  \"\"\"\n",
        "  avg_token_length = sum([len (token) for token in tokens]) / len (tokens)\n",
        "  return avg_token_length"
      ],
      "metadata": {
        "id": "DAAWHiC30jTS"
      },
      "execution_count": 12,
      "outputs": []
    },
    {
      "cell_type": "code",
      "source": [
        "# Tokenize all the speeches in the corpus\n",
        "all_tokens = get_all_tokens_from_corpus (overall_data)"
      ],
      "metadata": {
        "colab": {
          "base_uri": "https://localhost:8080/"
        },
        "id": "8HQK04pt7P3k",
        "outputId": "b1e67623-1d2f-4ae3-9cfc-029e5bfdb030"
      },
      "execution_count": 13,
      "outputs": [
        {
          "output_type": "stream",
          "name": "stderr",
          "text": [
            "10000it [00:47, 208.43it/s]\n"
          ]
        }
      ]
    },
    {
      "cell_type": "code",
      "source": [
        "# Get the average token length in the corpus.\n",
        "avg_token_length = get_average_token_length (all_tokens)\n",
        "print (f\"The average token length is {avg_token_length:.2f}\")"
      ],
      "metadata": {
        "colab": {
          "base_uri": "https://localhost:8080/"
        },
        "id": "v36X4eoGmSFl",
        "outputId": "260edd74-33e3-4f37-ff4e-cc0bb2c381f3"
      },
      "execution_count": 14,
      "outputs": [
        {
          "output_type": "stream",
          "name": "stdout",
          "text": [
            "The average token length is 4.77\n"
          ]
        }
      ]
    },
    {
      "cell_type": "markdown",
      "source": [
        "We used f-strings to format the output messages. You should learn more about them [here](https://builtin.com/data-science/python-f-string)"
      ],
      "metadata": {
        "id": "DRc64cVG8tNB"
      }
    },
    {
      "cell_type": "markdown",
      "source": [
        "**Your turn:** Q1. Calculate the variance of the word length [0.5 points]\n",
        "\n",
        "You'll implement a function that takes in the tokens as input and spits out a number which is the variance of the token lengths. The variance is calculated as follows:\n",
        "\n",
        "$$\n",
        "Var (X) = \\frac{\\sum\\limits (x_i - \\bar{x})^2}{n-1},\n",
        "$$\n",
        "\n",
        "Where $$X = \\{x_1, x_2, \\dots, x_n};\\$$\n",
        "\n",
        "$$\\bar{x} = \\frac{\\sum\\limits x_i}{n}$$\n",
        "\n",
        "\n",
        "You can reuse the `get_average_token_length` function to calculate the variance\n"
      ],
      "metadata": {
        "id": "iSaALOXP_b2S"
      }
    },
    {
      "cell_type": "code",
      "source": [
        "def get_variance_token_length (tokens: list) -> float:\n",
        "  \"\"\" Given a list of tokens, calculates the variance of the token length\n",
        "\n",
        "  :params:\n",
        "  :tokens (list): The list of tokenized speeches.\n",
        "\n",
        "  :returns:\n",
        "  :variance (float): The variance of token lengths over all the speeches\n",
        "\n",
        "  \"\"\"\n",
        "  variance = 0.0\n",
        "  # Write your code below\n",
        "\n",
        "  return variance"
      ],
      "metadata": {
        "id": "TvGRNqywFVzA"
      },
      "execution_count": 15,
      "outputs": []
    },
    {
      "cell_type": "code",
      "source": [
        "var_token_length = get_variance_token_length (all_tokens)\n",
        "print (f\"The variance of the token length is {var_token_length:.2f}\")"
      ],
      "metadata": {
        "id": "bHMv-jGYF6tW"
      },
      "execution_count": null,
      "outputs": []
    },
    {
      "cell_type": "markdown",
      "source": [
        "**Sanity check**: The variance is almost 1.5 times the average."
      ],
      "metadata": {
        "id": "8s5GXHVjG_RH"
      }
    },
    {
      "cell_type": "markdown",
      "source": [
        "**Your turn** Q2. Report the average word length stratified by gender. Are female speakers using longer words in their speeches?  [0.5 points]\n",
        "\n",
        "You'll need to filter the dataframe by the `gender` column. There are two labels \"M\" and \"F\" corresponding to male and female speakers.\n",
        "\n",
        "_Tip_: Try to reuse the `get_average_token_length` functio on slices of the corpus"
      ],
      "metadata": {
        "id": "Qq0puNYgICY4"
      }
    },
    {
      "cell_type": "code",
      "source": [
        "# Write code below\n"
      ],
      "metadata": {
        "id": "qrRm8vUuAZZY"
      },
      "execution_count": null,
      "outputs": []
    },
    {
      "cell_type": "markdown",
      "source": [
        "#### 1.2 Vocabulary richness by characteristic\n",
        "\n",
        "In class we discussed type to token ratio as a way to quantify the richness in vocabulary.\n",
        "\n",
        "[This paper](http://ccc.inaoep.mx/~villasen/bib/Quantitative%20Authorship%20AttributionQuantitative%20Authorship%20Attribution.pdf) suggests other ways of calculating the richness of the vocabulary (see 2.2.3). We'll implement Eq. 2 and 9 in this homework"
      ],
      "metadata": {
        "id": "PpIEEj5-MjTN"
      }
    },
    {
      "cell_type": "markdown",
      "source": [
        "**Your turn**: Q3. Implement a function that takes the tokens as input and calculates the metric in Eq.2 of the paper. [1 point]\n",
        "\n",
        "$$\n",
        "\\frac{1}{N^2}\\sum\\limits_i i^2V_i - N\n",
        "$$\n",
        "\n",
        "Where $N$ is the number of tokens, and $V_i$ is the number of words that occur i times in the text. This statistic is also referred to as _The Characteristic_ in literature.\n",
        "\n",
        "**Interpretation**: $V_i$ will be larger if words are being repeated. Thus, if the vocabulary is not rich, we expect this value -- and, in turn, our statistic -- to be high; conversely, if the reciprocal is high, then the vocabulary is rich.\n"
      ],
      "metadata": {
        "id": "FiTHWlP3N9a8"
      }
    },
    {
      "cell_type": "markdown",
      "source": [
        "To calculate the above equation, we will first need to have access to word counts. In class, we have seen that the word counts can be obtained by calling the `Counter` method as follows."
      ],
      "metadata": {
        "id": "UY4bl_IJT1TP"
      }
    },
    {
      "cell_type": "code",
      "source": [
        "# We can access the tokens using the variable all_tokens\n",
        "all_speeches_counter = Counter (all_tokens)"
      ],
      "metadata": {
        "id": "dKTlyUIESoxO"
      },
      "execution_count": 16,
      "outputs": []
    },
    {
      "cell_type": "markdown",
      "source": [
        "Now write the two functions below [0.5 points each]:\n",
        "\n",
        "1. The first function takes the counter object as input and returns a dictionary whose keys are counts and values are the number of vocabulary items with that count. For eg.  the returned dictionary should be of the form `{1: 213, 2:124, ...}` which means that there are 213 words that occur exactly once and 124 words that occur exactly twice and so on.\n",
        "\n",
        "2. The second takes the output of the first function as input and returns the\n",
        "richness metric as shown in \"The characteristic\" expression above."
      ],
      "metadata": {
        "id": "WG-cPlq0TMnT"
      }
    },
    {
      "cell_type": "code",
      "source": [
        "def counts_map (counter: Counter) -> dict:\n",
        "  \"\"\" Create a dictionary with counts as keys and number of vocabulary\n",
        "      items as values\n",
        "\n",
        "      :params:\n",
        "      :counter(Counter): wordcounts for the entire vocabulary\n",
        "\n",
        "      :returns:\n",
        "      value_counts (dict): dictionary contains a map of word count as keys and\n",
        "                           number of vocabulary items that have that count as\n",
        "                           values\n",
        "  \"\"\"\n",
        "  value_counts = {}\n",
        "  # Your code below\n",
        "\n",
        "  return value_counts\n",
        "\n",
        "def vocab_richness_by_characteristic (V:dict, N: int) -> float:\n",
        "  \"\"\" Calculate the richness of vocabulary based on the repetition\n",
        "      characteristic\n",
        "\n",
        "      :params:\n",
        "      :V (dict): key=wordcount; value=number of vocabulary items\n",
        "      :N (int): The number of tokens in the corpus\n",
        "\n",
        "      :returns:\n",
        "      richness (float): The calculated vocabulary richness\n",
        "\n",
        "  \"\"\"\n",
        "  richness = 0.0\n",
        "  # Write code below\n",
        "\n",
        "  return richness"
      ],
      "metadata": {
        "id": "keSKzOAbV-dP"
      },
      "execution_count": 72,
      "outputs": []
    },
    {
      "cell_type": "markdown",
      "source": [
        "Before we calculate the richness for a bigger text collection, let's see what we get for a couple of cooked up examples.\n",
        "\n",
        "Calculate the richness for\n",
        "\n",
        "$ V = \\{1:1, 2:1, 3:1, 4:1, 5:1\\}$, $N=5$\n",
        "\n",
        "and\n",
        "\n",
        "$ V = \\{1:2, 2:2, 3:0, 4:0, 5:1\\}$, $N=5$"
      ],
      "metadata": {
        "id": "JgJKkTzRnrt5"
      }
    },
    {
      "cell_type": "code",
      "source": [
        "V = {1:1, 2:1, 3:1, 4:1, 5:1}\n",
        "N=5\n",
        "print (vocab_richness_by_characteristic (V, 5))"
      ],
      "metadata": {
        "id": "KM1g5H11oqRq"
      },
      "execution_count": null,
      "outputs": []
    },
    {
      "cell_type": "code",
      "source": [
        "V = {1:2, 2:2, 3:0, 4:0, 5:1}\n",
        "N=5\n",
        "print (vocab_richness_by_characteristic (V, 5))"
      ],
      "metadata": {
        "id": "g6BaR1WEpGUA"
      },
      "execution_count": null,
      "outputs": []
    },
    {
      "cell_type": "markdown",
      "source": [
        "**Sanity check**: The richness metric for the second map of counts should be smaller; I get 0.4 for the second dictionary."
      ],
      "metadata": {
        "id": "7Gp3spGtpMRs"
      }
    },
    {
      "cell_type": "code",
      "source": [
        "V = counts_map (all_speeches_counter)\n",
        "richness_characteristic = vocab_richness_by_characteristic (V, len (all_tokens))\n",
        "print (f\"Vocabulary richness according to characteristic={richness_characteristic}\")"
      ],
      "metadata": {
        "id": "KKhIlj7ZWyka"
      },
      "execution_count": null,
      "outputs": []
    },
    {
      "cell_type": "markdown",
      "source": [
        "#### 1.3 Richness based on entropy\n",
        "\n",
        "**Your turn**: Q4. Implement a function that takes in the tokens as input and calculates the metric in Eq.9 of the paper. [0.5 point]\n",
        "\n",
        "$$\n",
        "Entropy = - \\sum p_v \\log p_v,\n",
        "$$\n",
        "\n",
        "where $p_v$ is the relative frequency or the probability of seeing the token $v$ in text."
      ],
      "metadata": {
        "id": "VZS2Wzw-akX7"
      }
    },
    {
      "cell_type": "markdown",
      "source": [
        "Write a function that takes the counter object and creates a dictionary for the probabilities of the words."
      ],
      "metadata": {
        "id": "Aah9pRGDbY-k"
      }
    },
    {
      "cell_type": "code",
      "source": [
        "def vocab_richness_by_entropy (counter:Counter) -> float:\n",
        "  \"\"\" Calculate the richness by calculating the entropy of\n",
        "  a probability distribution\n",
        "\n",
        "  :params:\n",
        "  :counter(Counter): wordcounts for the corpus\n",
        "\n",
        "  :returns:\n",
        "  :entropy (float): The entropy of the distribution\n",
        "  \"\"\"\n",
        "  entropy = 0.0\n",
        "  # Write your code below\n",
        "  N = sum ([val for val in counter.values()])\n",
        "  probs = {key: val/N for key,val in counter.items()}\n",
        "  entropy = -1*sum([prob * math.log (prob) for key, prob in probs.items()])\n",
        "  return entropy"
      ],
      "metadata": {
        "id": "Kn_6mhgxdxhZ"
      },
      "execution_count": 76,
      "outputs": []
    },
    {
      "cell_type": "markdown",
      "source": [
        "Again, before we calculate the \"richness by entropy\" for a bigger text collection, let's see what we get for a couple of cooked up examples.\n",
        "\n",
        "Calculate the richness for\n",
        "\n",
        "$ p_v = \\{\"the\":2, \"show\":2, \"must\":2, \"go\":2, \"on\":2\\}$\n",
        "\n",
        "and\n",
        "\n",
        "$ V = \\{\"the\":3, \"show\":3, \"must\":1, \"go\":1, \"on\":2\\}$, $N=5$"
      ],
      "metadata": {
        "id": "OYuU31nYryyK"
      }
    },
    {
      "cell_type": "code",
      "source": [
        "print (vocab_richness_by_entropy ({\"the\":2, \"show\":2, \"must\":2, \"go\":2, \"on\":2}))\n",
        "print (vocab_richness_by_entropy ({\"the\":3, \"show\":3, \"must\":1, \"go\":1, \"on\":2}))"
      ],
      "metadata": {
        "id": "LPFsZ-ZFsky0"
      },
      "execution_count": null,
      "outputs": []
    },
    {
      "cell_type": "markdown",
      "source": [
        "**Sanity check**: We expect a flat distribution to be more rich and consequently higher entropy. I got 1.61 for the first example."
      ],
      "metadata": {
        "id": "hdm2YrYPtaE1"
      }
    },
    {
      "cell_type": "code",
      "source": [
        "richness_entropy = vocab_richness_by_entropy (all_speeches_counter)\n",
        "print (richness_entropy)"
      ],
      "metadata": {
        "id": "HHq6bc9neuVj"
      },
      "execution_count": null,
      "outputs": []
    },
    {
      "cell_type": "markdown",
      "source": [
        "#### 1.4 Comparative analysis\n",
        "\n",
        "**Your turn**: Q5. Report the two richness metrics for republican and democrat speeches respectively. Whose vocabulary is richer? Democrats or Republicans? [0.5 points]\n",
        "\n",
        "You may want to use the `party` column from the `overall_data` dataframe."
      ],
      "metadata": {
        "id": "Rqyqp-QRfyCt"
      }
    },
    {
      "cell_type": "code",
      "source": [
        "# Write code below\n",
        "republican_tokens = #fill this\n",
        "republican_counter = #fill this\n",
        "\n",
        "democrat_tokens = #fill this\n",
        "democrat_counter = #fill this"
      ],
      "metadata": {
        "id": "8DKEezSyuV9v"
      },
      "execution_count": null,
      "outputs": []
    },
    {
      "cell_type": "code",
      "source": [
        "print (f\"Vocabulary richness by characteristic for republicans={vocab_richness_by_characteristic (counts_map (republican_counter), len (republican_tokens))}\")\n",
        "print (f\"Vocabulary richness by characteristic for democrats={vocab_richness_by_characteristic (counts_map (democrat_counter), len (democrat_tokens))}\")\n"
      ],
      "metadata": {
        "id": "-vtQWDtlvUbr"
      },
      "execution_count": null,
      "outputs": []
    },
    {
      "cell_type": "code",
      "source": [
        "print (f\"Vocabulary richness by entropy for republicans={vocab_richness_by_entropy (republican_counter)}\")\n",
        "print (f\"Vocabulary richness by entropy for democrats={vocab_richness_by_entropy (democrat_counter)}\")"
      ],
      "metadata": {
        "id": "34dmba6lxapc"
      },
      "execution_count": null,
      "outputs": []
    },
    {
      "cell_type": "markdown",
      "source": [
        "## 2. Find distinctive terms\n",
        "\n",
        "Our objective in this section is to find terms that are distinctive of the two parties i.e. words that indicate partisanship. We'll now implement the method to find such terms.\n",
        "\n",
        "\n",
        "#### 2.1 odds ratio or log-odds difference\n",
        "\n",
        "The odds $o_{w}^{(i)}$ for a word $w$ in group $i$ is given by:\n",
        "\n",
        "$$\n",
        "o_{w}^{(i)} = \\frac{f_w^{(i)}}{1-f_w^{(i)}},\n",
        "$$\n",
        "\n",
        "where $f_w^{(i)}$ is the relative frequency of $w$ in group $i$.\n",
        "\n",
        "**Note** The relative frequency of a word is nothing but its normalized counts or proportion of occurrences of a word in a corpus.\n",
        "\n",
        "To get words that are distinctive of democrats, we can calculate the odds ratio for every word $w$\n",
        "\n",
        "$$\n",
        "r_w = \\frac{o_{w}^{(dem)}}{o_{w}^{(rep)}}\n",
        "$$\n",
        "\n",
        "or the log of the odds ratio\n",
        "\n",
        "$$\n",
        "r_w^{*} = \\log o_{w}^{(dem)} - \\log o_{w}^{(rep)}\n",
        "$$\n",
        "\n",
        "\n"
      ],
      "metadata": {
        "id": "Urjd8Meyx4P3"
      }
    },
    {
      "cell_type": "markdown",
      "source": [
        "**Your turn**: Q. Implement a function to calculate the odds of a word given wordcounts [0.5 points]\n",
        "\n",
        "To avoid zero counts, we'll add a small non-zero number to the count for every word."
      ],
      "metadata": {
        "id": "LC9WP73Qbvti"
      }
    },
    {
      "cell_type": "code",
      "source": [
        "def word_odds (word_counts: dict, smoothing=0.0) -> dict:\n",
        "  \"\"\" Calculate the odds for each word in the word_counts dictionary/Counter\n",
        "\n",
        "  :params:\n",
        "  :word_counts (dict): count of words\n",
        "  :smoothing (float): add a little smoothing to avoid zero counts (default:0.0)\n",
        "\n",
        "  :results:\n",
        "  :odds (dict): odds ratio for all the words\n",
        "\n",
        "  \"\"\"\n",
        "  odds = dict ()\n",
        "  # Write your code below\n",
        "\n",
        "  return odds"
      ],
      "metadata": {
        "id": "qZ3KPZauli0e"
      },
      "execution_count": 84,
      "outputs": []
    },
    {
      "cell_type": "markdown",
      "source": [
        "**Your turn**: Q. Implement a function to calculate the log odds given wordcounts from each group [0.5 points]\n",
        "\n",
        "**Hints**\n",
        "- You'll first have to take the union of the vocabularies from individual groups and then recalculate the word counts based on this common vocabulary for both the groups.\n",
        "- You will have to get the word_odds"
      ],
      "metadata": {
        "id": "YBsbMcdlnFMG"
      }
    },
    {
      "cell_type": "code",
      "source": [
        "def log_odds_diff (word_counts_group1: dict, word_counts_group2: dict, smoothing=0.0) -> dict:\n",
        "  \"\"\" Calculate the log odds difference for each word in the word_counts dictionary/Counter\n",
        "\n",
        "  :params:\n",
        "  :word_counts_group1 (dict): count of words in group 1\n",
        "  :word_counts_group2 (dict): count of words in group 2\n",
        "  :smoothing (float): add a little smoothing to avoid zero counts (default:0.0)\n",
        "\n",
        "\n",
        "  :results:\n",
        "  :log_odds: give the log odds diff between group 1 and group 2\n",
        "  \"\"\"\n",
        "  log_odds = dict ()\n",
        "  # Write your code below\n",
        "\n",
        "  return log_odds"
      ],
      "metadata": {
        "id": "Ij4_egvXnu6I"
      },
      "execution_count": 85,
      "outputs": []
    },
    {
      "cell_type": "markdown",
      "source": [
        "**Your turn** Write code to create the word counter by aggregating all the republican speeches; then create a word counter from all democrat speeches; and finally get the difference of the log odds between democrats and republican speenches [0.5 points]"
      ],
      "metadata": {
        "id": "uXq9jkzGvuli"
      }
    },
    {
      "cell_type": "code",
      "source": [
        "# Write code below\n",
        "republican_tokens = # fill here\n",
        "republican_word_counts = # fill here\n",
        "\n",
        "democrat_tokens = # fill here\n",
        "democrat_word_counts = # fill here\n",
        "\n",
        "log_odds_score = log_odds_diff (democrat_word_counts, republican_word_counts, smoothing=0.01)"
      ],
      "metadata": {
        "id": "CUrEJbPhxJC2"
      },
      "execution_count": null,
      "outputs": []
    },
    {
      "cell_type": "code",
      "source": [
        "print (\"Distinctive words for democrats\")\n",
        "for word, score in sorted (log_odds_score.items(), key=lambda x:x[1], reverse=True)[0:10]:\n",
        "  print (word, f\"{score:0.2f}\")"
      ],
      "metadata": {
        "id": "BB8_nfshytHn"
      },
      "execution_count": null,
      "outputs": []
    },
    {
      "cell_type": "code",
      "source": [
        "print (\"Distinctive words for republicans\")\n",
        "for word, score in sorted (log_odds_score.items(), key=lambda x:x[1], reverse=False)[0:10]:\n",
        "  print (word, f\"{score:0.2f}\")"
      ],
      "metadata": {
        "id": "JXmKmYTt1Jeq"
      },
      "execution_count": null,
      "outputs": []
    },
    {
      "cell_type": "markdown",
      "source": [
        "**Your turn** Try different values of smoothing from $\\{0.001, 0.01, 0.1, 1\\}$. Report if the top 10 lists differ for different smoothing values. Give a brief explanation (2-3 sentences) of why you see some of these words strongly associated with republican or democractic speeches, respectively [0.5 points]\n",
        "\n"
      ],
      "metadata": {
        "id": "HiD3x2B03tck"
      }
    },
    {
      "cell_type": "code",
      "source": [
        "# Your code below"
      ],
      "metadata": {
        "id": "UX2KhaDK751N"
      },
      "execution_count": null,
      "outputs": []
    },
    {
      "cell_type": "markdown",
      "source": [
        "Your answer here:"
      ],
      "metadata": {
        "id": "zigqw3nf77bA"
      }
    },
    {
      "cell_type": "markdown",
      "source": [
        "#### 2.2 [Extra credit]\n",
        "\n",
        "\n",
        "[Monroe et. al.](http://languagelog.ldc.upenn.edu/myl/Monroe.pdf) propose a model based approach to find distinctive words (section 3.3 of their paper) in which they assume the log-odds ratio as a random variable. They estimate the log-odds ratio under their model by Eq. 16 and calculate the variance and the z-score of the log-odds in Eq. 21 and 22, respectively."
      ],
      "metadata": {
        "id": "1blGyn-84Xtg"
      }
    },
    {
      "cell_type": "markdown",
      "source": [
        "**Your turn** Implement eq. 16, 21 and 22 from the Monroe et. al. paper. Report the difference in the wordlists obtained by this methods with the simple log-odds from the previous section. [1 point]"
      ],
      "metadata": {
        "id": "410uS57c5a--"
      }
    },
    {
      "cell_type": "code",
      "source": [
        "# Your code below"
      ],
      "metadata": {
        "id": "vkFWJBvB7tSF"
      },
      "execution_count": null,
      "outputs": []
    },
    {
      "cell_type": "markdown",
      "source": [
        "Your answer here:"
      ],
      "metadata": {
        "id": "t2QHvhWT8nTd"
      }
    },
    {
      "cell_type": "markdown",
      "source": [
        "## 3. Find similar documents\n",
        "\n",
        "\n",
        "In this section, we'll write functions to calculate similarity between documents. We'll first start by representing documents as _tfidf_ vectors."
      ],
      "metadata": {
        "id": "A8qcKzET8r9v"
      }
    },
    {
      "cell_type": "code",
      "source": [
        "def get_speeches_as_tokens (frame: pd.DataFrame,\n",
        "                            speech_field:str=\"speech\",\n",
        "                            id_field=\"speech_id\") -> dict:\n",
        "  \"\"\" Iterate over the speeches in the dataframe and tokenize the speeches\n",
        "\n",
        "  :params:\n",
        "  :frame (pd.DataFrame): The dataframe that contains the entire tabular dataset\n",
        "  :speech_field (str): The field name in the dataframe the contains the speeches\n",
        "  :id_field (str): The field name in the dataframe the contains the speech_id\n",
        "\n",
        "  :returns:\n",
        "  :all_tokens (dict): Dictionary of tokenized speeches\n",
        "\n",
        "  \"\"\"\n",
        "  all_tokens = dict ()\n",
        "  for i,row in tqdm(frame.iterrows ()):\n",
        "    tokens = nltk.word_tokenize (row[speech_field]) # tokenize each speech\n",
        "    tokens = [token.lower () for token in tokens if token.isalpha()]\n",
        "    all_tokens[row[id_field]] = tokens\n",
        "  return all_tokens"
      ],
      "metadata": {
        "id": "rXuN2wCTIyjP"
      },
      "execution_count": 17,
      "outputs": []
    },
    {
      "cell_type": "code",
      "source": [
        "# Get the speeches as a tokenized stream\n",
        "speeches_as_tokens = get_speeches_as_tokens (overall_data,\n",
        "                                             speech_field=\"speech\",\n",
        "                                             id_field=\"speech_id\")\n",
        "\n",
        "# Create a counter\n",
        "all_tokens_counter = Counter ([token for speech_id in speeches_as_tokens for token in speeches_as_tokens[speech_id]])\n",
        "\n",
        "# Create a two-way map of word to index and index to word, but only consider\n",
        "# the most popular 5000 words\n",
        "iwx = {word: i for i, (word, count) in enumerate (all_tokens_counter.most_common (5000))}\n",
        "iiwx = {value: key for key,value in iwx.items()}\n",
        "\n",
        "# Remove all the speeches whose words are not found in the top 5000 words vocabulary\n",
        "final_speeches_as_tokens = {speech_id: speeches_as_tokens[speech_id]\n",
        "                             for speech_id in speeches_as_tokens if not sum([token in iwx for token in speeches_as_tokens[speech_id]]) == 0}\n",
        "\n",
        "# Create a two-way map between speech_ids and the row numbers\n",
        "idx = {speech_id: i for i, speech_id in enumerate (final_speeches_as_tokens)}\n",
        "iidx = {value: key for key,value in idx.items()}"
      ],
      "metadata": {
        "colab": {
          "base_uri": "https://localhost:8080/"
        },
        "id": "8PtYArx9JCnF",
        "outputId": "148d0435-29a1-4dc6-90d1-d521b4ad53f6"
      },
      "execution_count": 18,
      "outputs": [
        {
          "output_type": "stream",
          "name": "stderr",
          "text": [
            "10000it [00:39, 251.22it/s]\n"
          ]
        }
      ]
    },
    {
      "cell_type": "markdown",
      "source": [
        "We'll use the `final_speeches_as_tokens` variable"
      ],
      "metadata": {
        "id": "zZNqTRAiR2JP"
      }
    },
    {
      "cell_type": "markdown",
      "source": [
        "#### 3.1 Term frequency\n",
        "\n",
        "**Your turn** Write a function to calculate the term frequency matrix.[0.5 points]\n",
        "\n",
        "\n",
        "- The term frequency matrix has number of rows equal to the number of documents, and the number of columns as the size of the vocab\n",
        "- Every cell in the matrix corresponds to word $w$ and document $d$; the term frequency or $tf (w,d)$ is\n",
        "\n",
        "$$\n",
        "tf(w,d) = \\log (1+f_{w,d}),\n",
        "$$\n",
        "\n",
        "where $f_{w,d}$ is the relative frequency of word $w$ in document $d$."
      ],
      "metadata": {
        "id": "DTxBpd5UGR1S"
      }
    },
    {
      "cell_type": "code",
      "source": [
        "def get_term_frequency_matrix (tokens: list, vocab_index: tuple) -> np.array:\n",
        "  \"\"\" Get the term frequency matrix\n",
        "\n",
        "  :params:\n",
        "  :tokens (dict): dictionary of lists; every key is a speech id, and every value is a tokenized speech\n",
        "  :vocab_index (tuple): contains a mapping of word to index and another mapping from index to word\n",
        "  :returns:\n",
        "  :tf_mat (np.array): term frequency matrix\n",
        "\n",
        "  \"\"\"\n",
        "\n",
        "  w2i, i2w = vocab_index\n",
        "  tf_mat = None\n",
        "  # Your code here\n",
        "\n",
        "  return tf_mat"
      ],
      "metadata": {
        "id": "6gOl_R8MFUpn"
      },
      "execution_count": 145,
      "outputs": []
    },
    {
      "cell_type": "code",
      "source": [
        "tf_mat = get_term_frequency_matrix (final_speeches_as_tokens, (iwx, iiwx))\n",
        "print (tf_mat[idx[1140046217], iwx['of']])"
      ],
      "metadata": {
        "id": "BaUYOPhDN987"
      },
      "execution_count": 146,
      "outputs": []
    },
    {
      "cell_type": "markdown",
      "source": [
        "**Sanity check** I get tf for word \"of\" and in speech \"1140046217\" as 0.047"
      ],
      "metadata": {
        "id": "johCNX5gYoEG"
      }
    },
    {
      "cell_type": "markdown",
      "source": [
        "#### 3.2 Inverse document frequency\n",
        "\n",
        "**Your turn** Write a function to calculate the inverse document frequency vector [0.5 points]\n",
        "\n",
        "\n",
        "- The inverse document frequency vector has number of rows equal to the number of words\n",
        "- Every cell in the vector corresponds to word $w$; the inverse document frequency or $idf (w,D)$ is\n",
        "\n",
        "$$\n",
        "idf(w,D) = \\log (\\frac{N}{n_w}),\n",
        "$$\n",
        "\n",
        "where $n_{w}$ is the number of documents in which the word $w$ occurs.\n",
        "\n",
        "\n",
        "**Hint**: You can compute the idf vector from the term frequency matrix"
      ],
      "metadata": {
        "id": "gRUmocXWZGQw"
      }
    },
    {
      "cell_type": "code",
      "source": [
        "def get_inverse_document_vector (tf_mat: np.array) -> np.array:\n",
        "  \"\"\" Calculate the inverse document vector\n",
        "\n",
        "  :params:\n",
        "  :tf_mat (np.array): The term frequency matrix\n",
        "  :returns:\n",
        "  :idf_vec (np.array): The inverse document frequency vector\n",
        "  \"\"\"\n",
        "\n",
        "  # Write code here\n",
        "  idf_vec = None\n",
        "  return idf_vec"
      ],
      "metadata": {
        "id": "uYSVTgOYb-_o"
      },
      "execution_count": 160,
      "outputs": []
    },
    {
      "cell_type": "code",
      "source": [
        "idf_vec = get_inverse_document_vector (tf_mat)"
      ],
      "metadata": {
        "id": "xR0LWQzpdJC_"
      },
      "execution_count": 161,
      "outputs": []
    },
    {
      "cell_type": "markdown",
      "source": [
        "#### 3.3 TF-IDF\n",
        "\n",
        "**Your turn** Write a function to calculate the term TFIDF matrix [0.5 points]\n",
        "\n",
        "\n",
        "- The TFIDF matrix should have number of rows equal to number of documents, and number of columns equal to the size of the vocabulary\n",
        "- Every cell in the matrix corresponds to document $d$ and word $w$; the $tfidf (w,D)$ is\n",
        "\n",
        "$$\n",
        "tfidf(w,d) = tf(w,d) \\dot idf(w,D),\n",
        "$$\n",
        "\n",
        "\n",
        "**Hint**: You can calculate the tf-idf matrix if you have the tf matrix and the idf vector using numpy's broadcast operations"
      ],
      "metadata": {
        "id": "WZxH_TZTexUu"
      }
    },
    {
      "cell_type": "code",
      "source": [
        "def get_tfidf_mat (tf_mat: np.array, idf_vec: np.array) ->np.array:\n",
        "  \"\"\" Calculate the tfidf matrix\n",
        "\n",
        "  :params:\n",
        "  :tf_mat (np.array): The term frequency matrix\n",
        "  :idf_vec (np.array): The inverse document frequency vector\n",
        "\n",
        "  :returns:\n",
        "  :tf_idf_mat (np.array): The TFIDF matrix\n",
        "  \"\"\"\n",
        "  tf_idf_mat = None\n",
        "  # Write code below\n",
        "\n",
        "  return tf_idf_mat"
      ],
      "metadata": {
        "id": "l1FKdiutfvtH"
      },
      "execution_count": 19,
      "outputs": []
    },
    {
      "cell_type": "markdown",
      "source": [
        "#### 3.4 Similarity metrics\n",
        "\n",
        "**Your turn**: Write a function to calculate the cosine distance between two vectors. [0.5 points]\n",
        "\n",
        "The cosine distance is defined as follows.\n",
        "\n",
        "$$\n",
        "cos\\_dist (x,y) = 1 - \\frac{x \\cdot y}{\\lVert x \\rVert \\lVert y \\rVert}\n",
        "$$"
      ],
      "metadata": {
        "id": "4wIqqkMpgcxC"
      }
    },
    {
      "cell_type": "code",
      "source": [
        "def cosine_dist (x: np.array, y:np.array) -> float:\n",
        "  \"\"\" cosine distance\n",
        "\n",
        "  :params:\n",
        "  :x (np.array): vector\n",
        "  :y (np.array): vector\n",
        "\n",
        "  :returns:\n",
        "  dist (float): distance between two vectors\n",
        "  \"\"\"\n",
        "  dist = 0.0\n",
        "  # Write code below\n",
        "\n",
        "  return dist"
      ],
      "metadata": {
        "id": "mNkQymj99feM"
      },
      "execution_count": 20,
      "outputs": []
    },
    {
      "cell_type": "markdown",
      "source": [
        "#### 3.5 Pairwise distances\n",
        "\n",
        "\n",
        "Consider three sets:\n",
        "\n",
        "- A is a set of pairs where both the speeches are made by republicans\n",
        "- B is a set of pairs where both the speeches are made by democrats\n",
        "- C is a set of pairs where the first speech is made by a republican and the second speech is made by a democrat\n",
        "\n",
        "**Your turn**: Calculate and report the average pairwise distance between speeches in sets A, B, and C. Interpret the result [1 point]\n",
        "\n",
        "\n",
        "**Hints**:\n",
        "\n",
        "- This is likely to be a computationally intensive calculation. If you cannot average over all the pairs in the set, then randomly sample 100 pairs from each set and average over them. Repeat the random sampling 10 times and report the range of the average.\n"
      ],
      "metadata": {
        "id": "Guh1S4koh0y0"
      }
    },
    {
      "cell_type": "code",
      "source": [
        "# Your code here"
      ],
      "metadata": {
        "id": "OKMdA07gjMRl"
      },
      "execution_count": null,
      "outputs": []
    },
    {
      "cell_type": "markdown",
      "source": [
        "Your answer here"
      ],
      "metadata": {
        "id": "nt6XkR01jGu9"
      }
    }
  ]
}